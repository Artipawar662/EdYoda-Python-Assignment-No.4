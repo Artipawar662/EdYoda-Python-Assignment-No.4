{
 "cells": [
  {
   "cell_type": "code",
   "execution_count": 2,
   "id": "ca88ebd3",
   "metadata": {},
   "outputs": [
    {
     "name": "stdout",
     "output_type": "stream",
     "text": [
      "25\n",
      "48\n"
     ]
    }
   ],
   "source": [
    "#Write a Python program to create a lambda function that adds 25 to a given number passed in as an argument.\n",
    "#sample input: 10\n",
    "z = lambda a : a + 15\n",
    "print(z(10))\n",
    "z = lambda x, y : x * y\n",
    "print(z(12, 4))"
   ]
  },
  {
   "cell_type": "code",
   "execution_count": 5,
   "id": "c03f49ee",
   "metadata": {},
   "outputs": [
    {
     "name": "stdout",
     "output_type": "stream",
     "text": [
      "S_list:  [1, 2, 3, 4, 5, 6, 7]\n",
      "\n",
      "Triple of list numbers:\n",
      "[3, 6, 9, 12, 15, 18, 21]\n"
     ]
    }
   ],
   "source": [
    "#Write a Python program to triple all numbers of a given list of integers. Use Python map.\n",
    "#sample list: [1, 2, 3, 4, 5, 6, 7]\n",
    "numbers = [1, 2, 3, 4, 5, 6, 7] \n",
    "print( \"S_list: \", numbers)\n",
    "result = map(lambda x: x + x + x, numbers) \n",
    "print(\"\\nTriple of list numbers:\")\n",
    "print(list(result))\n"
   ]
  },
  {
   "cell_type": "code",
   "execution_count": 2,
   "id": "3d15297d",
   "metadata": {},
   "outputs": [
    {
     "name": "stdout",
     "output_type": "stream",
     "text": [
      "s_List:  [4, 5, 2, 9]\n",
      "\n",
      "Square the elements of tlist using map():\n",
      "[16, 25, 4, 81]\n"
     ]
    }
   ],
   "source": [
    "#Write a Python program to square the elements of a list using map() functions.\n",
    "#Sample List: [4, 5, 2, 9]\n",
    "def square_number(n):\n",
    "  return n * n\n",
    "numbers = [4, 5, 2, 9]\n",
    "print(\"s_List: \",numbers)\n",
    "result = map(square_number, numbers)\n",
    "print(\"\\nSquare the elements of tlist using map():\")\n",
    "print(list(result))"
   ]
  }
 ],
 "metadata": {
  "kernelspec": {
   "display_name": "Python 3 (ipykernel)",
   "language": "python",
   "name": "python3"
  },
  "language_info": {
   "codemirror_mode": {
    "name": "ipython",
    "version": 3
   },
   "file_extension": ".py",
   "mimetype": "text/x-python",
   "name": "python",
   "nbconvert_exporter": "python",
   "pygments_lexer": "ipython3",
   "version": "3.8.12"
  }
 },
 "nbformat": 4,
 "nbformat_minor": 5
}
